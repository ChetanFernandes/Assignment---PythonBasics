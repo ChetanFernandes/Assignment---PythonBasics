{
 "cells": [
  {
   "cell_type": "raw",
   "id": "e57487aa-6c22-45ef-8652-c9183618b99b",
   "metadata": {},
   "source": [
    "Topic - Python Basics Variable"
   ]
  },
  {
   "cell_type": "code",
   "execution_count": 25,
   "id": "501eb948-055e-435e-b1a1-bcddf5ca9104",
   "metadata": {},
   "outputs": [
    {
     "name": "stdout",
     "output_type": "stream",
     "text": [
      "Value of 'x' before swap -  10\n",
      "Value of 'y' before swap -  20\n",
      "Value of 'x' after swap -  20\n",
      "value of 'y' after swap -  10\n"
     ]
    }
   ],
   "source": [
    "# Question 1\n",
    "\n",
    "x = int(10) # assigned integer value for x\n",
    "y = int(20) # assigned integer value for y\n",
    "print(\"Value of 'x' before swap - \", x)\n",
    "print(\"Value of 'y' before swap - \", y)\n",
    "x, y = y, x # swapping\n",
    "print(\"Value of 'x' after swap - \", x) # print value of x post swap\n",
    "print(\"value of 'y' after swap - \", y) # print value of y post "
   ]
  },
  {
   "cell_type": "code",
   "execution_count": 28,
   "id": "8f3b101c-0971-4322-90e5-6bf548ae4673",
   "metadata": {},
   "outputs": [
    {
     "name": "stdin",
     "output_type": "stream",
     "text": [
      "Enter the length of rectangle -  12\n",
      "Enter the breadth of rectangle -  12\n"
     ]
    },
    {
     "name": "stdout",
     "output_type": "stream",
     "text": [
      "Area of Rectangle -  144\n"
     ]
    }
   ],
   "source": [
    "# Question 2\n",
    "\n",
    "def areaofrectangle(a,b):\n",
    "    z = a * b # Formual to calculate the area\n",
    "    return(z)\n",
    "a = int(input(\"Enter the length of rectangle - \"))\n",
    "b = int(input(\"Enter the breadth of rectangle - \"))\n",
    "Area = areaofrectangle(a,b)\n",
    "print(\"Area of Rectangle - \", Area)"
   ]
  },
  {
   "cell_type": "code",
   "execution_count": 29,
   "id": "42e2edfc-7799-417a-9a41-47e82f6d8219",
   "metadata": {},
   "outputs": [],
   "source": [
    "#F = (C * 1.8) + 32"
   ]
  },
  {
   "cell_type": "code",
   "execution_count": 21,
   "id": "2809c731-357a-4ff9-b6a8-a6fc121bbe36",
   "metadata": {},
   "outputs": [
    {
     "name": "stdin",
     "output_type": "stream",
     "text": [
      "Enter the tempreature in celsius - 34\n"
     ]
    },
    {
     "name": "stdout",
     "output_type": "stream",
     "text": [
      "Tempreature in Fahrenheit -  93.2\n"
     ]
    }
   ],
   "source": [
    "# Question 3\n",
    "\n",
    "C = int(input(\"Enter the tempreature in celsius -\"))\n",
    "F = (C * 1.8) + 32\n",
    "print(\"Tempreature in Fahrenheit - \", F)\n"
   ]
  },
  {
   "cell_type": "raw",
   "id": "ea60685f-337f-4582-b576-cb91b35cea37",
   "metadata": {},
   "source": [
    "Topic - String Based Questions"
   ]
  },
  {
   "cell_type": "code",
   "execution_count": 42,
   "id": "2418a01c-9e9a-4841-a668-facb7e17885d",
   "metadata": {},
   "outputs": [
    {
     "name": "stdin",
     "output_type": "stream",
     "text": [
      "Enter the string - Data Science\n"
     ]
    },
    {
     "name": "stdout",
     "output_type": "stream",
     "text": [
      "String Value - Data Science\n",
      "Lenghth of string - 12\n"
     ]
    }
   ],
   "source": [
    "# Question 1\n",
    "\n",
    "c = input(\"Enter the string -\") # Takes the input from the user\n",
    "print(\"String Value -\",c) # Print the value of string\n",
    "print(\"Lenghth of string -\", len(c)) #prints lenghth of string"
   ]
  },
  {
   "cell_type": "code",
   "execution_count": 4,
   "id": "8d2cf036-276f-4954-b98d-5c4281d0c36e",
   "metadata": {},
   "outputs": [
    {
     "name": "stdin",
     "output_type": "stream",
     "text": [
      "Enter the string -  I have joined Data Science Pro course\n"
     ]
    },
    {
     "name": "stdout",
     "output_type": "stream",
     "text": [
      "Nunber of vowels 'a' in string - 3\n",
      "Number of vowels 'e' in string - 5\n",
      "Number of vowels 'i' in string - 2\n",
      "Number of vowels 'o' in string - 3\n",
      "Number of vowels 'u' in string - 1\n"
     ]
    }
   ],
   "source": [
    "# Question 2\n",
    "str = input(\"Enter the string - \")\n",
    "a1 = str.count('a')\n",
    "e1 = str.count('e')\n",
    "i1 = str.count('i')\n",
    "o1 = str.count('o')\n",
    "u1 = str.count('u')\n",
    "print(\"Nunber of vowels 'a' in string -\", a1)\n",
    "print(\"Number of vowels 'e' in string -\", e1)\n",
    "print(\"Number of vowels 'i' in string -\", i1)\n",
    "print(\"Number of vowels 'o' in string -\", o1)\n",
    "print(\"Number of vowels 'u' in string -\", u1)"
   ]
  },
  {
   "cell_type": "code",
   "execution_count": 17,
   "id": "3f27071b-fe46-4c19-ae7f-3b629f4f0773",
   "metadata": {},
   "outputs": [
    {
     "name": "stdin",
     "output_type": "stream",
     "text": [
      "User Input - Enter the string -  I am novice in Datascience\n"
     ]
    },
    {
     "name": "stdout",
     "output_type": "stream",
     "text": [
      "String value before reversing -  I am novice in Datascience\n",
      "String value after reversing - ecneicsataD ni ecivon ma I\n"
     ]
    }
   ],
   "source": [
    "# Question 3\n",
    "str1 = input(\"User Input - Enter the string - \")\n",
    "print(\"String value before reversing - \", str1)\n",
    "str2 =str1[ : :-1]\n",
    "print(f\"String value after reversing - {str2}\")"
   ]
  },
  {
   "cell_type": "code",
   "execution_count": 2,
   "id": "3072648e-9e37-44ba-af1e-b641288c143f",
   "metadata": {},
   "outputs": [
    {
     "name": "stdin",
     "output_type": "stream",
     "text": [
      "User Input - Enter the string -  MADAM\n"
     ]
    },
    {
     "name": "stdout",
     "output_type": "stream",
     "text": [
      "User provided string value  -  MADAM\n",
      "Value of string after reverse -  MADAM\n",
      "The given string  - MADAM is : Palindrome\n"
     ]
    }
   ],
   "source": [
    "# Question 4\n",
    "str2 = input(\"User Input - Enter the string - \")\n",
    "print(\"User provided string value  - \", str2)\n",
    "B1 = str2[ : : -1] # Slicing method to read backwards(-1)\n",
    "print(\"Value of string after reverse - \", B1)\n",
    "if str2 == B1:\n",
    "    print(f\"The given string  - {str2} is : Palindrome\")\n",
    "else:\n",
    "    print(f\"The given string - {str2} is not : Palindrome\")"
   ]
  },
  {
   "cell_type": "code",
   "execution_count": 16,
   "id": "eaf7d3cb-4368-42c4-adf2-26bab87ffe02",
   "metadata": {},
   "outputs": [
    {
     "name": "stdin",
     "output_type": "stream",
     "text": [
      " User Input - Enter the string :                   Datascience'\n"
     ]
    },
    {
     "name": "stdout",
     "output_type": "stream",
     "text": [
      " Value of string after moving spaces- [\"Datascience'\"]\n"
     ]
    }
   ],
   "source": [
    "# Question 5\n",
    "str3 = input(\" User Input - Enter the string : \")\n",
    "str4 = str3.split() # Function used to remove spaces\n",
    "print(\" Value of string after moving spaces-\",str4)"
   ]
  },
  {
   "cell_type": "code",
   "execution_count": null,
   "id": "705efb5f-e55a-4d50-a753-1d173624ee70",
   "metadata": {},
   "outputs": [],
   "source": []
  }
 ],
 "metadata": {
  "kernelspec": {
   "display_name": "Python 3 (ipykernel)",
   "language": "python",
   "name": "python3"
  },
  "language_info": {
   "codemirror_mode": {
    "name": "ipython",
    "version": 3
   },
   "file_extension": ".py",
   "mimetype": "text/x-python",
   "name": "python",
   "nbconvert_exporter": "python",
   "pygments_lexer": "ipython3",
   "version": "3.10.8"
  }
 },
 "nbformat": 4,
 "nbformat_minor": 5
}
